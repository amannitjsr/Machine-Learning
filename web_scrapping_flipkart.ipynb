{
  "nbformat": 4,
  "nbformat_minor": 0,
  "metadata": {
    "colab": {
      "provenance": [],
      "authorship_tag": "ABX9TyPf9H5Llqsf63R85IkT3hqx",
      "include_colab_link": true
    },
    "kernelspec": {
      "name": "python3",
      "display_name": "Python 3"
    },
    "language_info": {
      "name": "python"
    }
  },
  "cells": [
    {
      "cell_type": "markdown",
      "metadata": {
        "id": "view-in-github",
        "colab_type": "text"
      },
      "source": [
        "<a href=\"https://colab.research.google.com/github/amannitjsr/Machine-Learning/blob/main/web_scrapping_flipkart.ipynb\" target=\"_parent\"><img src=\"https://colab.research.google.com/assets/colab-badge.svg\" alt=\"Open In Colab\"/></a>"
      ]
    },
    {
      "cell_type": "code",
      "execution_count": 1,
      "metadata": {
        "id": "7dqnBp_vKZ-T"
      },
      "outputs": [],
      "source": [
        "import pandas as pd\n",
        "import requests\n",
        "from bs4 import BeautifulSoup\n"
      ]
    },
    {
      "cell_type": "code",
      "source": [
        "url = 'https://www.flipkart.com/mobiles/pr?sid=tyy%2C4io&p%5B%5D=facets.brand%255B%255D%3Drealme&p%5B%5D=facets.availability%255B%255D%3DExclude%2BOut%2Bof%2BStock&param=7564&ctx=eyJjYXJkQ29udGV4dCI6eyJhdHRyaWJ1dGVzIjp7InRpdGxlIjp7Im11bHRpVmFsdWVkQXR0cmlidXRlIjp7ImtleSI6InRpdGxlIiwiaW5mZXJlbmNlVHlwZSI6IlRJVExFIiwidmFsdWVzIjpbIlNob3AgTm93Il0sInZhbHVlVHlwZSI6Ik1VTFRJX1ZBTFVFRCJ9fX19fQ%3D%3D&otracker=clp_metro_expandable_1_5.metroExpandable.METRO_EXPANDABLE_Shop%2BNow_mobile-phones-store_Q1PDG4YW86MF_wp2&fm=neo%2Fmerchandising&iid=M_aebefa70-3786-450f-9f91-66d5902cd2d1_5.Q1PDG4YW86MF&ppt=None&ppn=None&ssid=aqk8r37wq80000001684334704234'"
      ],
      "metadata": {
        "id": "-8GVLTSmK5R9"
      },
      "execution_count": 2,
      "outputs": []
    },
    {
      "cell_type": "code",
      "source": [
        "r = requests.get(url)"
      ],
      "metadata": {
        "id": "nZo4xK-iL0W2"
      },
      "execution_count": 3,
      "outputs": []
    },
    {
      "cell_type": "code",
      "source": [
        "soup = BeautifulSoup(r.text,'lxml')\n",
        "box = soup.find(\"div\",class_=\"_1YokD2 _3Mn1Gg\")"
      ],
      "metadata": {
        "id": "CSBFzw24L4pT"
      },
      "execution_count": 4,
      "outputs": []
    },
    {
      "cell_type": "code",
      "source": [
        "names = box.find_all(\"div\",class_=\"_4rR01T\")"
      ],
      "metadata": {
        "id": "2ln_bbShMWsT"
      },
      "execution_count": 5,
      "outputs": []
    },
    {
      "cell_type": "code",
      "source": [
        "Product_name=[]\n",
        "for i in names:\n",
        "  name=i.text\n",
        "  Product_name.append(name)\n",
        "print(len(Product_name))"
      ],
      "metadata": {
        "colab": {
          "base_uri": "https://localhost:8080/"
        },
        "id": "U8UGPX_CM8I5",
        "outputId": "21e0b2e9-88a6-4ca5-f644-d9f6c059b7f1"
      },
      "execution_count": 6,
      "outputs": [
        {
          "output_type": "stream",
          "name": "stdout",
          "text": [
            "24\n"
          ]
        }
      ]
    },
    {
      "cell_type": "code",
      "source": [
        "price = box.find_all(\"div\",class_=\"_30jeq3 _1_WHN1\")"
      ],
      "metadata": {
        "id": "y358WI-SN1hw"
      },
      "execution_count": 7,
      "outputs": []
    },
    {
      "cell_type": "code",
      "source": [
        "Product_price=[]\n",
        "for i in price:\n",
        "  name=i.text\n",
        "  Product_price.append(name)\n",
        "print((Product_price))"
      ],
      "metadata": {
        "colab": {
          "base_uri": "https://localhost:8080/"
        },
        "id": "eJdbQunEOpQ7",
        "outputId": "02d990e8-d902-4477-d2e0-a65aeb59555a"
      },
      "execution_count": 8,
      "outputs": [
        {
          "output_type": "stream",
          "name": "stdout",
          "text": [
            "['₹9,999', '₹9,999', '₹9,999', '₹26,999', '₹10,999', '₹13,999', '₹13,999', '₹11,999', '₹11,999', '₹10,999', '₹6,499', '₹5,999', '₹6,499', '₹6,499', '₹13,999', '₹11,999', '₹10,499', '₹10,499', '₹10,499', '₹8,999', '₹8,999', '₹9,999', '₹8,999', '₹9,999']\n"
          ]
        }
      ]
    },
    {
      "cell_type": "code",
      "source": [
        "rating = box.find_all(\"div\",class_=\"_3LWZlK\")"
      ],
      "metadata": {
        "id": "vqIvyaPHO8l8"
      },
      "execution_count": 9,
      "outputs": []
    },
    {
      "cell_type": "code",
      "source": [
        "Product_rating=[]\n",
        "for i in rating:\n",
        "  name=i.text\n",
        "  Product_rating.append(name)\n",
        "print((Product_rating))"
      ],
      "metadata": {
        "colab": {
          "base_uri": "https://localhost:8080/"
        },
        "id": "ZMgjeQ7TPLUS",
        "outputId": "f9b6b01c-1455-4536-e7f0-77e1fc2d7d0f"
      },
      "execution_count": 10,
      "outputs": [
        {
          "output_type": "stream",
          "name": "stdout",
          "text": [
            "['4.5', '4.5', '4.5', '4.5', '4.4', '4.4', '4.4', '4.4', '4.4', '4.4', '4.1', '4.2', '4.1', '4.1', '4.4', '4.4', '4.5', '4.5', '4.5', '4.4', '4.4', '4.4', '4.4', '4.4']\n"
          ]
        }
      ]
    },
    {
      "cell_type": "code",
      "source": [
        "desc = box.find_all(\"ul\",class_=\"_1xgFaf\")"
      ],
      "metadata": {
        "id": "SgqMkupHPcqw"
      },
      "execution_count": 11,
      "outputs": []
    },
    {
      "cell_type": "code",
      "source": [
        "Product_desc =[]\n",
        "for i in desc:\n",
        "  name=i.text\n",
        "  Product_desc.append(name)\n",
        "print((Product_desc))"
      ],
      "metadata": {
        "colab": {
          "base_uri": "https://localhost:8080/"
        },
        "id": "jQVIzlKlQB3f",
        "outputId": "ce4b0545-d472-49df-9c13-16dc4fae2cbc"
      },
      "execution_count": 12,
      "outputs": [
        {
          "output_type": "stream",
          "name": "stdout",
          "text": [
            "['4 GB RAM | 64 GB ROM | Expandable Upto 1 TB16.51 cm (6.5 inch) HD+ Display50MP + 0.3MP | 5MP Front Camera5000 mAh Lithium Ion BatteryUnisoc T612 Processor1 Year Manufacturer Warranty for Phone and 6 Months Warranty for In-Box Accessories', '4 GB RAM | 64 GB ROM | Expandable Upto 1 TB16.51 cm (6.5 inch) HD+ Display50MP + 0.3MP | 5MP Front Camera5000 mAh Lithium Ion BatteryUnisoc T612 Processor1 Year Manufacturer Warranty for Phone and 6 Months Warranty for In-Box Accessories', '4 GB RAM | 64 GB ROM | Expandable Upto 1 TB16.51 cm (6.5 inch) HD+ Display50MP + 0.3MP | 5MP Front Camera5000 mAh Lithium Ion BatteryUnisoc T612 Processor1 Year Manufacturer Warranty for Phone and 6 Months Warranty for In-Box Accessories', '8 GB RAM | 256 GB ROM17.02 cm (6.7 inch) Full HD+ Display108MP + 8MP + 2MP | 16MP Front Camera5000 mAh BatteryMediatek Dimensity 1080 5G Processor1 Year Manufacturer Warranty for Phone and 6 Months Warranty for In-Box Accessories', '4 GB RAM | 64 GB ROM | Expandable Upto 1 TB17.07 cm (6.72 inch) Full HD+ Display64MP + 2MP | 8MP Front Camera5000 mAh BatteryHelio G88 Processor1 Year Manufacturer Warranty for Phone and 6 Months Warranty for In the Box Accessories', '8 GB RAM | 128 GB ROM | Expandable Upto 1 TB17.07 cm (6.72 inch) Full HD+ Display64MP + 2MP | 8MP Front Camera5000 mAh BatteryHelio G88 Processor1 Year Manufacturer Warranty for Phone and 6 Months Warranty for In the Box Accessories', '8 GB RAM | 128 GB ROM | Expandable Upto 1 TB17.07 cm (6.72 inch) Full HD+ Display64MP + 2MP | 8MP Front Camera5000 mAh BatteryHelio G88 Processor1 Year Manufacturer Warranty for Phone and 6 Months Warranty for In the Box Accessories', '6 GB RAM | 64 GB ROM | Expandable Upto 1 TB17.07 cm (6.72 inch) Full HD+ Display64MP + 2MP | 8MP Front Camera5000 mAh BatteryHelio G88 Processor1 Year Manufacturer Warranty for Phone and 6 Months Warranty for In the Box Accessories', '6 GB RAM | 64 GB ROM | Expandable Upto 1 TB17.07 cm (6.72 inch) Full HD+ Display64MP + 2MP | 8MP Front Camera5000 mAh BatteryHelio G88 Processor1 Year Manufacturer Warranty for Phone and 6 Months Warranty for In the Box Accessories', '4 GB RAM | 64 GB ROM | Expandable Upto 1 TB17.07 cm (6.72 inch) Full HD+ Display64MP + 2MP | 8MP Front Camera5000 mAh BatteryHelio G88 Processor1 Year Manufacturer Warranty for Phone and 6 Months Warranty for In the Box Accessories', '3 GB RAM | 32 GB ROM | Expandable Upto 1 TB16.51 cm (6.5 inch) HD+ Display8MP Rear Camera | 5MP Front Camera5000 mAh Lithium Ion BatteryUnisoc T612 Processor1 Year Manufacturer Warranty for Phone and 6 Months Warranty for In-Box Accessories', '2 GB RAM | 32 GB ROM | Expandable Upto 1 TB16.51 cm (6.5 inch) HD+ Display8MP Rear Camera | 5MP Front Camera5000 mAh Lithium Ion BatteryUnisoc T612 Processor1 Year Manufacturer Warranty for Phone and 6 Months Warranty for In-Box Accessories', '3 GB RAM | 32 GB ROM | Expandable Upto 1 TB16.51 cm (6.5 inch) HD+ Display8MP Rear Camera | 5MP Front Camera5000 mAh Lithium Ion BatteryUnisoc T612 Processor1 Year Manufacturer Warranty for Phone and 6 Months Warranty for In-Box Accessories', '3 GB RAM | 32 GB ROM | Expandable Upto 1 TB16.51 cm (6.5 inch) HD+ Display8MP Rear Camera | 5MP Front Camera5000 mAh Lithium Ion BatteryUnisoc T612 Processor1 Year Manufacturer Warranty for Phone and 6 Months Warranty for In-Box Accessories', '8 GB RAM | 128 GB ROM | Expandable Upto 1 TB17.07 cm (6.72 inch) Full HD+ Display64MP + 2MP | 8MP Front Camera5000 mAh BatteryHelio G88 Processor1 Year Manufacturer Warranty for Phone and 6 Months Warranty for In the Box Accessories', '6 GB RAM | 64 GB ROM | Expandable Upto 1 TB17.07 cm (6.72 inch) Full HD+ Display64MP + 2MP | 8MP Front Camera5000 mAh BatteryHelio G88 Processor1 Year Manufacturer Warranty for Phone and 6 Months Warranty for In the Box Accessories', '4 GB RAM | 128 GB ROM | Expandable Upto 1 TB16.51 cm (6.5 inch) HD+ Display50MP + 0.3MP | 5MP Front Camera5000 mAh Lithium Ion BatteryUnisoc T612 Processor1 Year Manufacturer Warranty for Phone and 6 Months Warranty for In-Box Accessories', '4 GB RAM | 128 GB ROM | Expandable Upto 1 TB16.51 cm (6.5 inch) HD+ Display50MP + 0.3MP | 5MP Front Camera5000 mAh Lithium Ion BatteryUnisoc T612 Processor1 Year Manufacturer Warranty for Phone and 6 Months Warranty for In-Box Accessories', '4 GB RAM | 128 GB ROM | Expandable Upto 1 TB16.51 cm (6.5 inch) HD+ Display50MP + 0.3MP | 5MP Front Camera5000 mAh Lithium Ion BatteryUnisoc T612 Processor1 Year Manufacturer Warranty for Phone and 6 Months Warranty for In-Box Accessories', '3 GB RAM | 32 GB ROM | Expandable Upto 1 TB16.51 cm (6.5 inch) HD+ Display50MP + 0.3MP | 5MP Front Camera5000 mAh Lithium Ion BatteryUnisoc T612 Processor1 Year Manufacturer Warranty for Phone and 6 Months Warranty for In-Box Accessories', '3 GB RAM | 32 GB ROM | Expandable Upto 1 TB16.51 cm (6.5 inch) HD+ Display50MP + 0.3MP | 5MP Front Camera5000 mAh Lithium Ion BatteryUnisoc T612 Processor1 Year Manufacturer Warranty for Phone and 6 Months Warranty for In-Box Accessories', '4 GB RAM | 64 GB ROM | Expandable Upto 1 TB16.51 cm (6.5 inch) HD+ Display50MP + 0.3MP | 5MP Front Camera5000 mAh Lithium Ion BatteryUnisoc T612 Processor1 Year Manufacturer Warranty for Phone and 6 Months Warranty for In-Box Accessories', '3 GB RAM | 32 GB ROM | Expandable Upto 1 TB16.51 cm (6.5 inch) HD+ Display50MP + 0.3MP | 5MP Front Camera5000 mAh Lithium Ion BatteryUnisoc T612 Processor1 Year Manufacturer Warranty for Phone and 6 Months Warranty for In-Box Accessories', '4 GB RAM | 64 GB ROM | Expandable Upto 1 TB16.51 cm (6.5 inch) HD+ Display50MP + 0.3MP | 5MP Front Camera5000 mAh Lithium Ion BatteryUnisoc T612 Processor1 Year Manufacturer Warranty for Phone and 6 Months Warranty for In-Box Accessories']\n"
          ]
        }
      ]
    },
    {
      "cell_type": "code",
      "source": [
        "df = pd.DataFrame({\"Product_Name\":Product_name , 'Product_Price':Product_price, 'Product_Description':Product_desc,'Product_Rating':Product_rating})"
      ],
      "metadata": {
        "id": "-NQtpfW_QVZP"
      },
      "execution_count": 13,
      "outputs": []
    },
    {
      "cell_type": "code",
      "source": [
        "df.head()"
      ],
      "metadata": {
        "colab": {
          "base_uri": "https://localhost:8080/",
          "height": 206
        },
        "id": "8EJ6BNobQ9e7",
        "outputId": "af45b4a4-fa6e-4ff8-e7c8-0df57431420d"
      },
      "execution_count": 14,
      "outputs": [
        {
          "output_type": "execute_result",
          "data": {
            "text/plain": [
              "                              Product_Name Product_Price  \\\n",
              "0      realme C33 2023 (Sandy Gold, 64 GB)        ₹9,999   \n",
              "1       realme C33 2023 (Aqua Blue, 64 GB)        ₹9,999   \n",
              "2       realme C33 2023 (Night Sea, 64 GB)        ₹9,999   \n",
              "3  realme 10 Pro+ 5G (Nebula Blue, 256 GB)       ₹26,999   \n",
              "4            realme C55 (Sunshower, 64 GB)       ₹10,999   \n",
              "\n",
              "                                 Product_Description Product_Rating  \n",
              "0  4 GB RAM | 64 GB ROM | Expandable Upto 1 TB16....            4.5  \n",
              "1  4 GB RAM | 64 GB ROM | Expandable Upto 1 TB16....            4.5  \n",
              "2  4 GB RAM | 64 GB ROM | Expandable Upto 1 TB16....            4.5  \n",
              "3  8 GB RAM | 256 GB ROM17.02 cm (6.7 inch) Full ...            4.5  \n",
              "4  4 GB RAM | 64 GB ROM | Expandable Upto 1 TB17....            4.4  "
            ],
            "text/html": [
              "\n",
              "  <div id=\"df-e3dddd91-920d-4d80-b0a1-bdbf94383b1b\">\n",
              "    <div class=\"colab-df-container\">\n",
              "      <div>\n",
              "<style scoped>\n",
              "    .dataframe tbody tr th:only-of-type {\n",
              "        vertical-align: middle;\n",
              "    }\n",
              "\n",
              "    .dataframe tbody tr th {\n",
              "        vertical-align: top;\n",
              "    }\n",
              "\n",
              "    .dataframe thead th {\n",
              "        text-align: right;\n",
              "    }\n",
              "</style>\n",
              "<table border=\"1\" class=\"dataframe\">\n",
              "  <thead>\n",
              "    <tr style=\"text-align: right;\">\n",
              "      <th></th>\n",
              "      <th>Product_Name</th>\n",
              "      <th>Product_Price</th>\n",
              "      <th>Product_Description</th>\n",
              "      <th>Product_Rating</th>\n",
              "    </tr>\n",
              "  </thead>\n",
              "  <tbody>\n",
              "    <tr>\n",
              "      <th>0</th>\n",
              "      <td>realme C33 2023 (Sandy Gold, 64 GB)</td>\n",
              "      <td>₹9,999</td>\n",
              "      <td>4 GB RAM | 64 GB ROM | Expandable Upto 1 TB16....</td>\n",
              "      <td>4.5</td>\n",
              "    </tr>\n",
              "    <tr>\n",
              "      <th>1</th>\n",
              "      <td>realme C33 2023 (Aqua Blue, 64 GB)</td>\n",
              "      <td>₹9,999</td>\n",
              "      <td>4 GB RAM | 64 GB ROM | Expandable Upto 1 TB16....</td>\n",
              "      <td>4.5</td>\n",
              "    </tr>\n",
              "    <tr>\n",
              "      <th>2</th>\n",
              "      <td>realme C33 2023 (Night Sea, 64 GB)</td>\n",
              "      <td>₹9,999</td>\n",
              "      <td>4 GB RAM | 64 GB ROM | Expandable Upto 1 TB16....</td>\n",
              "      <td>4.5</td>\n",
              "    </tr>\n",
              "    <tr>\n",
              "      <th>3</th>\n",
              "      <td>realme 10 Pro+ 5G (Nebula Blue, 256 GB)</td>\n",
              "      <td>₹26,999</td>\n",
              "      <td>8 GB RAM | 256 GB ROM17.02 cm (6.7 inch) Full ...</td>\n",
              "      <td>4.5</td>\n",
              "    </tr>\n",
              "    <tr>\n",
              "      <th>4</th>\n",
              "      <td>realme C55 (Sunshower, 64 GB)</td>\n",
              "      <td>₹10,999</td>\n",
              "      <td>4 GB RAM | 64 GB ROM | Expandable Upto 1 TB17....</td>\n",
              "      <td>4.4</td>\n",
              "    </tr>\n",
              "  </tbody>\n",
              "</table>\n",
              "</div>\n",
              "      <button class=\"colab-df-convert\" onclick=\"convertToInteractive('df-e3dddd91-920d-4d80-b0a1-bdbf94383b1b')\"\n",
              "              title=\"Convert this dataframe to an interactive table.\"\n",
              "              style=\"display:none;\">\n",
              "        \n",
              "  <svg xmlns=\"http://www.w3.org/2000/svg\" height=\"24px\"viewBox=\"0 0 24 24\"\n",
              "       width=\"24px\">\n",
              "    <path d=\"M0 0h24v24H0V0z\" fill=\"none\"/>\n",
              "    <path d=\"M18.56 5.44l.94 2.06.94-2.06 2.06-.94-2.06-.94-.94-2.06-.94 2.06-2.06.94zm-11 1L8.5 8.5l.94-2.06 2.06-.94-2.06-.94L8.5 2.5l-.94 2.06-2.06.94zm10 10l.94 2.06.94-2.06 2.06-.94-2.06-.94-.94-2.06-.94 2.06-2.06.94z\"/><path d=\"M17.41 7.96l-1.37-1.37c-.4-.4-.92-.59-1.43-.59-.52 0-1.04.2-1.43.59L10.3 9.45l-7.72 7.72c-.78.78-.78 2.05 0 2.83L4 21.41c.39.39.9.59 1.41.59.51 0 1.02-.2 1.41-.59l7.78-7.78 2.81-2.81c.8-.78.8-2.07 0-2.86zM5.41 20L4 18.59l7.72-7.72 1.47 1.35L5.41 20z\"/>\n",
              "  </svg>\n",
              "      </button>\n",
              "      \n",
              "  <style>\n",
              "    .colab-df-container {\n",
              "      display:flex;\n",
              "      flex-wrap:wrap;\n",
              "      gap: 12px;\n",
              "    }\n",
              "\n",
              "    .colab-df-convert {\n",
              "      background-color: #E8F0FE;\n",
              "      border: none;\n",
              "      border-radius: 50%;\n",
              "      cursor: pointer;\n",
              "      display: none;\n",
              "      fill: #1967D2;\n",
              "      height: 32px;\n",
              "      padding: 0 0 0 0;\n",
              "      width: 32px;\n",
              "    }\n",
              "\n",
              "    .colab-df-convert:hover {\n",
              "      background-color: #E2EBFA;\n",
              "      box-shadow: 0px 1px 2px rgba(60, 64, 67, 0.3), 0px 1px 3px 1px rgba(60, 64, 67, 0.15);\n",
              "      fill: #174EA6;\n",
              "    }\n",
              "\n",
              "    [theme=dark] .colab-df-convert {\n",
              "      background-color: #3B4455;\n",
              "      fill: #D2E3FC;\n",
              "    }\n",
              "\n",
              "    [theme=dark] .colab-df-convert:hover {\n",
              "      background-color: #434B5C;\n",
              "      box-shadow: 0px 1px 3px 1px rgba(0, 0, 0, 0.15);\n",
              "      filter: drop-shadow(0px 1px 2px rgba(0, 0, 0, 0.3));\n",
              "      fill: #FFFFFF;\n",
              "    }\n",
              "  </style>\n",
              "\n",
              "      <script>\n",
              "        const buttonEl =\n",
              "          document.querySelector('#df-e3dddd91-920d-4d80-b0a1-bdbf94383b1b button.colab-df-convert');\n",
              "        buttonEl.style.display =\n",
              "          google.colab.kernel.accessAllowed ? 'block' : 'none';\n",
              "\n",
              "        async function convertToInteractive(key) {\n",
              "          const element = document.querySelector('#df-e3dddd91-920d-4d80-b0a1-bdbf94383b1b');\n",
              "          const dataTable =\n",
              "            await google.colab.kernel.invokeFunction('convertToInteractive',\n",
              "                                                     [key], {});\n",
              "          if (!dataTable) return;\n",
              "\n",
              "          const docLinkHtml = 'Like what you see? Visit the ' +\n",
              "            '<a target=\"_blank\" href=https://colab.research.google.com/notebooks/data_table.ipynb>data table notebook</a>'\n",
              "            + ' to learn more about interactive tables.';\n",
              "          element.innerHTML = '';\n",
              "          dataTable['output_type'] = 'display_data';\n",
              "          await google.colab.output.renderOutput(dataTable, element);\n",
              "          const docLink = document.createElement('div');\n",
              "          docLink.innerHTML = docLinkHtml;\n",
              "          element.appendChild(docLink);\n",
              "        }\n",
              "      </script>\n",
              "    </div>\n",
              "  </div>\n",
              "  "
            ]
          },
          "metadata": {},
          "execution_count": 14
        }
      ]
    },
    {
      "cell_type": "code",
      "source": [
        "Product_name=[]\n",
        "Product_price=[]\n",
        "Product_rating = []\n",
        "Product_desc = []"
      ],
      "metadata": {
        "id": "e8GcwBHIUZoV"
      },
      "execution_count": 15,
      "outputs": []
    },
    {
      "cell_type": "code",
      "source": [
        "for i in range(2,12):\n",
        "  url = 'https://www.flipkart.com/mobiles/pr?sid=tyy%2C4io&p%5B%5D=facets.brand%255B%255D%3Drealme&p%5B%5D=facets.availability%255B%255D%3DExclude%2BOut%2Bof%2BStock&param=7564&ctx=eyJjYXJkQ29udGV4dCI6eyJhdHRyaWJ1dGVzIjp7InRpdGxlIjp7Im11bHRpVmFsdWVkQXR0cmlidXRlIjp7ImtleSI6InRpdGxlIiwiaW5mZXJlbmNlVHlwZSI6IlRJVExFIiwidmFsdWVzIjpbIlNob3AgTm93Il0sInZhbHVlVHlwZSI6Ik1VTFRJX1ZBTFVFRCJ9fX19fQ%3D%3D&otracker=clp_metro_expandable_1_5.metroExpandable.METRO_EXPANDABLE_Shop%2BNow_mobile-phones-store_Q1PDG4YW86MF_wp2&fm=neo%2Fmerchandising&iid=M_aebefa70-3786-450f-9f91-66d5902cd2d1_5.Q1PDG4YW86MF&ppt=None&ppn=None&ssid=aqk8r37wq80000001684334704234&page='+str(i)\n",
        "  r = requests.get(url)\n",
        "  soup = BeautifulSoup(r.text,'lxml')\n",
        "  box = soup.find(\"div\",class_=\"_1YokD2 _3Mn1Gg\")\n",
        "\n",
        "  names = box.find_all(\"div\",class_=\"_4rR01T\")\n",
        "  \n",
        "  for i in names:\n",
        "    name=i.text\n",
        "    Product_name.append(name)\n",
        "\n",
        "  price = box.find_all(\"div\",class_=\"_30jeq3 _1_WHN1\")\n",
        "  \n",
        "  for i in price:\n",
        "    name=i.text\n",
        "    Product_price.append(name)\n",
        "\n",
        "  rating = box.find_all(\"div\",class_=\"_3LWZlK\")\n",
        "  \n",
        "  for i in rating:\n",
        "    name=i.text\n",
        "    Product_rating.append(name)\n",
        "\n",
        "  desc = box.find_all(\"ul\",class_=\"_1xgFaf\")\n",
        "  \n",
        "  for i in desc:\n",
        "    name=i.text\n",
        "    Product_desc.append(name)"
      ],
      "metadata": {
        "id": "SzyNgfXHRCPY"
      },
      "execution_count": 16,
      "outputs": []
    },
    {
      "cell_type": "code",
      "source": [
        "print(Product_name)"
      ],
      "metadata": {
        "colab": {
          "base_uri": "https://localhost:8080/"
        },
        "id": "UxvRJ_EtSL_S",
        "outputId": "d5f45235-10a6-41d0-e39f-409af8120cc1"
      },
      "execution_count": 17,
      "outputs": [
        {
          "output_type": "stream",
          "name": "stdout",
          "text": [
            "['realme 10 Pro 5G (Nebula Blue, 128 GB)', 'realme 10 Pro 5G (Nebula Blue, 128 GB)', 'realme 8 (Punk Black, 128 GB)', 'realme 10 Pro+ 5G (Nebula Blue, 256 GB)', 'realme 10 Pro 5G (Dark Matter, 128 GB)', 'realme 10 Pro 5G (Dark Matter, 128 GB)', 'realme 10 Pro 5G (Hyperspace, 128 GB)', 'realme 10 Pro 5G (Hyperspace, 128 GB)', 'realme 8 (Cyber Black, 128 GB)', 'realme Narzo 50 (Speed Blue, 128 GB)', 'Realme C30 - Locked with Airtel Prepaid (Denim Black, 32 GB)', 'realme Narzo 50 (Speed Black, 64 GB)', 'realme 10 Pro+ 5G (Nebula Blue, 128 GB)', 'realme 10 Pro+ 5G (Dark Matter, 128 GB)', 'realme 10 Pro+ 5G (Dark Matter, 128 GB)', 'realme 10 Pro+ 5G (Hyperspace, 128 GB)', 'realme Narzo 50 (Speed Black, 128 GB)', 'realme 10 Pro+ 5G (Nebula Blue, 128 GB)', 'realme 10 (Clash White, 128 GB)', 'realme C20 (Cool Blue, 32 GB)', 'realme C20 (Cool Grey, 32 GB)', 'realme 10 Pro+ 5G (Hyperspace, 128 GB)', 'realme 9i 5G (Soulful Blue, 128 GB)', 'realme 9i 5G (Rocking Black, 64 GB)', 'realme 10 (Clash White, 64 GB)', 'realme 10 (Rush Black, 64 GB)', 'realme 9i 5G (Rocking Black, 128 GB)', 'realme 10 Pro+ 5G (Nebula Blue, 256 GB)', 'realme 9i 5G (Soulful Blue, 64 GB)', 'Realme C30 - Locked with Airtel Prepaid (Bamboo Green, 32 GB)', 'realme 9i 5G (Metallica Gold, 128 GB)', 'realme 9i 5G (Metallica Gold, 64 GB)', 'realme C35 (Glowing Black, 64 GB)', 'realme 10 (Rush Black, 128 GB)', 'realme C35 (Glowing Black, 128 GB)', 'realme C30s (Stripe Blue, 32 GB)', 'realme C30s (Stripe Black, 32 GB)', 'realme Narzo 50i (Carbon Black, 64 GB)', 'realme Narzo 50i (Mint Green, 32 GB)', 'realme C30s (Stripe Black, 64 GB)', 'realme Narzo 50i (Carbon Black, 32 GB)', 'realme 8 5G (Supersonic Blue, 128 GB)', 'realme C25s (Watery Blue, 64 GB)', 'realme C25s (Watery Blue, 128 GB)', 'realme C21 (Cross Blue, 32 GB)', 'realme C21 (Cross Black, 64 GB)', 'realme C21 (Cross Black, 32 GB)', 'realme C25s (Watery Grey, 128 GB)', 'realme C25s (Watery Blue, 128 GB)', 'realme C25s (Watery Blue, 64 GB)', 'realme GT Neo 3T (Dash Yellow, 256 GB)', 'realme 10 Pro+ 5G (Nebula Blue, 256 GB)', 'realme GT Neo 3T (Drifting White, 128 GB)', 'realme C30s (Stripe Black, 32 GB)', 'realme C30s (Stripe Blue, 32 GB)', 'realme C25s (Watery Grey, 128 GB)', 'realme Narzo 50i Prime (Dark Blue, 64 GB)', 'realme Narzo 50i Prime (Dark Blue, 32 GB)', 'realme GT Neo 3T (Drifting White, 128 GB)', 'realme Narzo 50i (Mint Green, 64 GB)', 'realme GT Neo 3T (Shade Black, 256 GB)', 'realme GT Neo 3T (Dash Yellow, 128 GB)', 'realme C30s (Stripe Black, 64 GB)', 'realme Narzo N55 (Prime Black, 128 GB)', 'realme Narzo 50A Prime (Flash Blue, 128 GB)', 'realme 8 5G (Supersonic Blue, 128 GB)', 'Realme C30 - Locked with Airtel Prepaid (Lake Blue, 32 GB)', 'realme C25s (Watery Grey, 64 GB)', 'realme NARZO 50A PRIME (FLASH BLUE, 64 GB)', 'realme 8 5G (Supersonic Black, 128 GB)', 'realme Narzo 50i Prime (Mint Green, 64 GB)', 'realme Narzo 50 Pro 5G (Hyper Blue, 128 GB)', 'realme 9 Pro+ 5G (Midnight Black, 256 GB)', 'realme 9 Pro+ 5G (Midnight Black, 128 GB)', 'realme Narzo 50A Prime (Flash Black, 64 GB)', 'realme 10 Pro+ 5G (Nebula Blue, 256 GB)', 'realme C31 (Dark Green, 32 GB)', 'realme C31 (Light Silver, 32 GB)', 'realme C31 (Light Silver, 64 GB)', 'realme 9 Pro+ 5G (Sunrise Blue, 256 GB)', 'Realme C30 - Locked with Airtel Prepaid (Denim Black, 32 GB)', 'realme 9 Pro+ 5G (Aurora Green, 256 GB)', 'realme Narzo 30 (Racing Silver, 64 GB)', 'realme 8i (Space Black, 64 GB)', 'realme C31 (Dark Green, 64 GB)', 'realme Narzo N55 (Prime Black, 64 GB)', 'realme Narzo 30 (Racing Blue, 128 GB)', 'realme Narzo 30 (Racing Silver, 128 GB)', 'realme Narzo 50 Pro 5G (Hyper Black, 128 GB)', 'realme 9 5G SE (Starry Glow, 128 GB)', 'realme 9 5G SE (Azure Glow, 128 GB)', 'realme C11 2021 (Cool Blue, 32 GB)', 'realme C11 2021 (Cool Grey, 32 GB)', 'realme C11 2021 (Cool Grey, 64 GB)', 'realme Narzo 50 Pro 5G (Hyper Blue, 128 GB)', 'realme 8 5G (Supersonic Black, 128 GB)', 'realme C21Y (Cross Black, 32 GB)', 'realme 9i (Prism Blue, 128 GB)', 'realme 9i (Prism Black, 128 GB)', 'realme 10 Pro+ 5G (Nebula Blue, 256 GB)', 'realme narzo 50 5G (Hyper Blue, 128 GB)', 'realme Narzo 30 Pro 5G (Blade Silver, 128 GB)', 'realme 9i (Prism Blue, 64 GB)', 'realme GT 2 (Steel Black, 128 GB)', 'realme GT 2 (Paper White, 128 GB)', 'realme Narzo 50A Prime (Flash Blue, 64 GB)', 'realme GT Neo 3T (Shade Black, 128 GB)', 'realme C15 (Power Blue, 32 GB)', 'realme C21Y (Cross Black, 64 GB)', 'realme GT 2 (Paper Green, 128 GB)', 'realme C21Y (Cross Blue, 64 GB)', 'realme 9 (Sunburst Gold, 128 GB)', 'realme GT 2 (Steel Black, 256 GB)', 'realme GT Master Edition (Luna White, 256 GB)', 'realme 9 (Stargaze White, 128 GB)', 'realme 9 (Meteor Black, 128 GB)', 'realme GT Master Edition (Daybreak Blue, 256 GB)', 'realme C25_Y (Metal Grey, 64 GB)', 'realme Narzo 50A (Oxygen Blue, 64 GB)', 'realme 7 (Mist Blue, 64 GB)', 'realme 9 (Meteor Black, 128 GB)', 'realme C12 (Power Silver, 32 GB)', 'realme C25_Y (Glacier Blue, 128 GB)', 'realme 10 Pro+ 5G (Nebula Blue, 256 GB)', 'realme C2 (Diamond Black, 16 GB)', 'realme Narzo 50A (Oxygen Green, 128 GB)', 'realme 3i (Diamond Black, 64 GB)', 'realme 3i (Diamond Red, 64 GB)', 'realme 3i (Diamond Blue, 32 GB)', 'realme C25Y (Metal Grey, 64 GB)', 'realme Narzo 20 (Glory Silver, 64 GB)', 'realme Narzo 20 (Glory Silver, 128 GB)', 'realme Narzo 20 (Victory Blue, 128 GB)', 'realme 3i (Diamond Black, 32 GB)', 'realme narzo 50 5G (Hyper Black, 64 GB)', 'realme C25_Y (Glacier Blue, 64 GB)', 'realme GT NEO 3 (150W) (Sprint White, 256 GB)', 'realme C25_Y (Metal Grey, 128 GB)', 'realme C12 (Power Blue, 32 GB)', 'realme GT NEO 3 (150W) (Nitro Blue, 256 GB)', 'realme Narzo 50A Prime (Flash Black, 128 GB)', 'realme 9 Pro 5G (Aurora Green, 128 GB)', 'realme 9 Pro 5G (Midnight Black, 128 GB)', 'realme Narzo N55 (Prime Blue, 64 GB)', 'realme C1 (Mirror Black, 32 GB)', 'realme Narzo N55 (Prime Blue, 64 GB)', 'realme 2 (Diamond Red, 32 GB)', 'realme 10 Pro+ 5G (Nebula Blue, 256 GB)', 'realme 2 (Diamond Black, 32 GB)', 'realme GT NEO 2 (NEO Black, 256 GB)', 'realme X50 Pro (Moss Green, 256 GB)', 'realme GT NEO 2 (NEO Black, 128 GB)', 'realme GT Neo 3 (Sprint White, 256 GB)', 'realme GT Neo 3 (Asphalt Black, 256 GB)', 'realme GT Neo 3 (Sprint White, 128 GB)', 'realme C3 (Frozen Blue, 64 GB)', 'realme C3 (Blazing Red, 64 GB)', 'realme C3 (Frozen Blue, 32 GB)', 'realme X50 Pro (Rust Red, 128 GB)', 'realme X50 Pro (Moss Green, 128 GB)', 'realme C1 (Navy Blue, 16 GB)', 'realme GT Neo 3 (Asphalt Black, 128 GB)', 'realme GT NEO 2 (NEO Blue, 256 GB)', 'realme X7 Pro 5G (Mystic Black, 128 GB)', 'realme GT Neo 3 (150W - Thor Limited Edition) (Nitro Blue, 256 GB)', 'realme GT Neo 3 (Nitro Blue, 128 GB)', 'realme GT NEO 2 (NEO Blue, 128 GB)', 'realme X3 SuperZoom (Glacier Blue, 256 GB)', 'realme 2 Pro (Black Sea, 64 GB)', 'realme X3 SuperZoom (Arctic White, 128 GB)', 'realme C1 (Mirror Black, 16 GB)', 'realme 10 Pro+ 5G (Nebula Blue, 256 GB)', 'realme X7 Pro 5G (Fantasy, 128 GB)', 'realme GT 2 Pro (Steel Black, 128 GB)', 'realme 5i (Forest Green, 64 GB)', 'realme 5i (Aqua Blue, 128 GB)', 'realme 5i (Aqua Blue, 64 GB)', 'realme GT 2 Pro (Steel Black, 256 GB)', 'realme Narzo 20A (Glory Silver, 64 GB)', 'realme GT 2 Pro (Paper White, 128 GB)', 'realme X3 SuperZoom (Arctic White, 256 GB)', 'realme X3 SuperZoom (Arctic White, 256 GB)', 'realme X3 SuperZoom (Glacier Blue, 256 GB)', 'realme Narzo 50A Prime (Flash Blue, 128 GB)', 'realme C15 Qualcomm Edition (Power Blue, 32 GB)', 'realme C2 (Diamond Blue, 16 GB)', 'realme GT 2 Pro (Paper Green, 128 GB)', 'realme GT NEO 3 (150W) (Asphalt Black, 256 GB)', 'realme C25s (Watery Grey, 64GB)(4GB RAM) (Watery grey, 64 GB)', 'realme GT 2 Pro (Paper White, 256 GB)', 'realme GT 5G (Dashing Silver, 128 GB)', 'realme GT 2 Pro (Paper Green, 256 GB)', 'realme 3 (Dynamic Black, 64 GB)', 'realme 3 (Dynamic Black, 32 GB)', 'realme 6 (Comet Blue, 128 GB)', 'realme 10 Pro+ 5G (Nebula Blue, 256 GB)', 'realme 5i (Forest Green, 64 GB)', 'realme C15 (Power Silver, 32 GB)', 'realme 7 (Mist Blue, 64 GB)', 'realme X (Space Blue, 128 GB)', 'realme X (Polar White, 128 GB)', 'realme X (Space Blue, 128 GB)', 'realme GT Neo 3 (Nitro Blue, 256 GB)', 'realme 6i (Eclipse Black, 64 GB)', 'realme 6i (Lunar White, 64 GB)', 'realme 6i (Eclipse Black, 64 GB)', 'realme 6i (Lunar White, 64 GB)', 'realme C2 (Diamond Black, 32 GB)', 'realme C2 (Diamond Blue, 32 GB)', 'realme XT (Pearl Blue, 128 GB)', 'realme XT (Pearl White, 64 GB)', 'realme 5 (Crystal Purple, 128 GB)', 'realme 5 (Crystal Blue, 128 GB)', 'realme 5 (Crystal Purple, 32 GB)', 'realme 9 (Sunburst Gold, 128 GB)', 'realme Narzo 50 Pro 5G (Hyper Black, 128 GB)', 'realme 5 (Crystal Blue, 32 GB)', 'realme 5s (Crystal Blue, 64 GB)', 'realme 5 Pro (Crystal Green, 64 GB)', 'realme 10 Pro+ 5G (Nebula Blue, 256 GB)', 'realme 5 Pro (Sparkling Blue, 64 GB)', 'realme 5 Pro (Sparkling Blue, 64 GB)', 'realme 5 Pro (Crystal Green, 64 GB)', 'realme 5s (Crystal Red, 128 GB)', 'realme 5 Pro (Sparkling Blue, 128 GB)', 'realme C12 (Power Blue, 32 GB)', 'realme 3 Pro (Nitro Blue, 64 GB)', 'realme C2 (Diamond Black, 32 GB)', 'realme X50 Pro 5G (Rust Red, 256 GB)', 'realme 2 (Diamond Black, 32 GB)', 'realme 6 (Comet Blue, 64 GB)', 'realme 6 (Comet White, 64 GB)', 'realme C15 Qualcomm Edition (Power Silver, 32 GB)', 'realme 3 (Radiant Blue, 64 GB)', 'realme X2 Pro (Neptune Blue, 128 GB)', 'realme X2 Pro (Neptune Blue, 256 GB)', 'realme GT 5G (Dashing Blue, 128 GB)', 'realme X3 (Glacier Blue, 128 GB)']\n"
          ]
        }
      ]
    },
    {
      "cell_type": "code",
      "source": [
        "df = pd.DataFrame({'Product_Name':Product_name})"
      ],
      "metadata": {
        "id": "EzwtrEY6WrYc"
      },
      "execution_count": 18,
      "outputs": []
    },
    {
      "cell_type": "code",
      "source": [
        "df['Product_Price'] = pd.DataFrame({'Product_Price':Product_price})"
      ],
      "metadata": {
        "id": "pcKTm99pYSOW"
      },
      "execution_count": 19,
      "outputs": []
    },
    {
      "cell_type": "code",
      "source": [
        "df['Product_Rating'] = pd.DataFrame({'Product_rating':Product_rating})\n",
        "df['Product_Description'] = pd.DataFrame({'Product_desc':Product_desc})"
      ],
      "metadata": {
        "id": "XSVsITBIYt2x"
      },
      "execution_count": 20,
      "outputs": []
    },
    {
      "cell_type": "code",
      "source": [
        "df.head()"
      ],
      "metadata": {
        "colab": {
          "base_uri": "https://localhost:8080/",
          "height": 206
        },
        "id": "_85be099XDzR",
        "outputId": "0c9ad5ba-b8cc-4be3-beb1-c7796f465cc6"
      },
      "execution_count": 21,
      "outputs": [
        {
          "output_type": "execute_result",
          "data": {
            "text/plain": [
              "                              Product_Name Product_Price Product_Rating  \\\n",
              "0   realme 10 Pro 5G (Nebula Blue, 128 GB)       ₹19,999            4.4   \n",
              "1   realme 10 Pro 5G (Nebula Blue, 128 GB)       ₹18,999            4.4   \n",
              "2            realme 8 (Punk Black, 128 GB)       ₹12,999            4.4   \n",
              "3  realme 10 Pro+ 5G (Nebula Blue, 256 GB)       ₹26,999            4.5   \n",
              "4   realme 10 Pro 5G (Dark Matter, 128 GB)       ₹19,999            4.4   \n",
              "\n",
              "                                 Product_Description  \n",
              "0  8 GB RAM | 128 GB ROM | Expandable Upto 1 TB17...  \n",
              "1  6 GB RAM | 128 GB ROM | Expandable Upto 1 TB17...  \n",
              "2  4 GB RAM | 128 GB ROM | Expandable Upto 256 GB...  \n",
              "3  8 GB RAM | 256 GB ROM17.02 cm (6.7 inch) Full ...  \n",
              "4  8 GB RAM | 128 GB ROM | Expandable Upto 1 TB17...  "
            ],
            "text/html": [
              "\n",
              "  <div id=\"df-748e097d-0cdb-4651-8b24-8720b8ad23b7\">\n",
              "    <div class=\"colab-df-container\">\n",
              "      <div>\n",
              "<style scoped>\n",
              "    .dataframe tbody tr th:only-of-type {\n",
              "        vertical-align: middle;\n",
              "    }\n",
              "\n",
              "    .dataframe tbody tr th {\n",
              "        vertical-align: top;\n",
              "    }\n",
              "\n",
              "    .dataframe thead th {\n",
              "        text-align: right;\n",
              "    }\n",
              "</style>\n",
              "<table border=\"1\" class=\"dataframe\">\n",
              "  <thead>\n",
              "    <tr style=\"text-align: right;\">\n",
              "      <th></th>\n",
              "      <th>Product_Name</th>\n",
              "      <th>Product_Price</th>\n",
              "      <th>Product_Rating</th>\n",
              "      <th>Product_Description</th>\n",
              "    </tr>\n",
              "  </thead>\n",
              "  <tbody>\n",
              "    <tr>\n",
              "      <th>0</th>\n",
              "      <td>realme 10 Pro 5G (Nebula Blue, 128 GB)</td>\n",
              "      <td>₹19,999</td>\n",
              "      <td>4.4</td>\n",
              "      <td>8 GB RAM | 128 GB ROM | Expandable Upto 1 TB17...</td>\n",
              "    </tr>\n",
              "    <tr>\n",
              "      <th>1</th>\n",
              "      <td>realme 10 Pro 5G (Nebula Blue, 128 GB)</td>\n",
              "      <td>₹18,999</td>\n",
              "      <td>4.4</td>\n",
              "      <td>6 GB RAM | 128 GB ROM | Expandable Upto 1 TB17...</td>\n",
              "    </tr>\n",
              "    <tr>\n",
              "      <th>2</th>\n",
              "      <td>realme 8 (Punk Black, 128 GB)</td>\n",
              "      <td>₹12,999</td>\n",
              "      <td>4.4</td>\n",
              "      <td>4 GB RAM | 128 GB ROM | Expandable Upto 256 GB...</td>\n",
              "    </tr>\n",
              "    <tr>\n",
              "      <th>3</th>\n",
              "      <td>realme 10 Pro+ 5G (Nebula Blue, 256 GB)</td>\n",
              "      <td>₹26,999</td>\n",
              "      <td>4.5</td>\n",
              "      <td>8 GB RAM | 256 GB ROM17.02 cm (6.7 inch) Full ...</td>\n",
              "    </tr>\n",
              "    <tr>\n",
              "      <th>4</th>\n",
              "      <td>realme 10 Pro 5G (Dark Matter, 128 GB)</td>\n",
              "      <td>₹19,999</td>\n",
              "      <td>4.4</td>\n",
              "      <td>8 GB RAM | 128 GB ROM | Expandable Upto 1 TB17...</td>\n",
              "    </tr>\n",
              "  </tbody>\n",
              "</table>\n",
              "</div>\n",
              "      <button class=\"colab-df-convert\" onclick=\"convertToInteractive('df-748e097d-0cdb-4651-8b24-8720b8ad23b7')\"\n",
              "              title=\"Convert this dataframe to an interactive table.\"\n",
              "              style=\"display:none;\">\n",
              "        \n",
              "  <svg xmlns=\"http://www.w3.org/2000/svg\" height=\"24px\"viewBox=\"0 0 24 24\"\n",
              "       width=\"24px\">\n",
              "    <path d=\"M0 0h24v24H0V0z\" fill=\"none\"/>\n",
              "    <path d=\"M18.56 5.44l.94 2.06.94-2.06 2.06-.94-2.06-.94-.94-2.06-.94 2.06-2.06.94zm-11 1L8.5 8.5l.94-2.06 2.06-.94-2.06-.94L8.5 2.5l-.94 2.06-2.06.94zm10 10l.94 2.06.94-2.06 2.06-.94-2.06-.94-.94-2.06-.94 2.06-2.06.94z\"/><path d=\"M17.41 7.96l-1.37-1.37c-.4-.4-.92-.59-1.43-.59-.52 0-1.04.2-1.43.59L10.3 9.45l-7.72 7.72c-.78.78-.78 2.05 0 2.83L4 21.41c.39.39.9.59 1.41.59.51 0 1.02-.2 1.41-.59l7.78-7.78 2.81-2.81c.8-.78.8-2.07 0-2.86zM5.41 20L4 18.59l7.72-7.72 1.47 1.35L5.41 20z\"/>\n",
              "  </svg>\n",
              "      </button>\n",
              "      \n",
              "  <style>\n",
              "    .colab-df-container {\n",
              "      display:flex;\n",
              "      flex-wrap:wrap;\n",
              "      gap: 12px;\n",
              "    }\n",
              "\n",
              "    .colab-df-convert {\n",
              "      background-color: #E8F0FE;\n",
              "      border: none;\n",
              "      border-radius: 50%;\n",
              "      cursor: pointer;\n",
              "      display: none;\n",
              "      fill: #1967D2;\n",
              "      height: 32px;\n",
              "      padding: 0 0 0 0;\n",
              "      width: 32px;\n",
              "    }\n",
              "\n",
              "    .colab-df-convert:hover {\n",
              "      background-color: #E2EBFA;\n",
              "      box-shadow: 0px 1px 2px rgba(60, 64, 67, 0.3), 0px 1px 3px 1px rgba(60, 64, 67, 0.15);\n",
              "      fill: #174EA6;\n",
              "    }\n",
              "\n",
              "    [theme=dark] .colab-df-convert {\n",
              "      background-color: #3B4455;\n",
              "      fill: #D2E3FC;\n",
              "    }\n",
              "\n",
              "    [theme=dark] .colab-df-convert:hover {\n",
              "      background-color: #434B5C;\n",
              "      box-shadow: 0px 1px 3px 1px rgba(0, 0, 0, 0.15);\n",
              "      filter: drop-shadow(0px 1px 2px rgba(0, 0, 0, 0.3));\n",
              "      fill: #FFFFFF;\n",
              "    }\n",
              "  </style>\n",
              "\n",
              "      <script>\n",
              "        const buttonEl =\n",
              "          document.querySelector('#df-748e097d-0cdb-4651-8b24-8720b8ad23b7 button.colab-df-convert');\n",
              "        buttonEl.style.display =\n",
              "          google.colab.kernel.accessAllowed ? 'block' : 'none';\n",
              "\n",
              "        async function convertToInteractive(key) {\n",
              "          const element = document.querySelector('#df-748e097d-0cdb-4651-8b24-8720b8ad23b7');\n",
              "          const dataTable =\n",
              "            await google.colab.kernel.invokeFunction('convertToInteractive',\n",
              "                                                     [key], {});\n",
              "          if (!dataTable) return;\n",
              "\n",
              "          const docLinkHtml = 'Like what you see? Visit the ' +\n",
              "            '<a target=\"_blank\" href=https://colab.research.google.com/notebooks/data_table.ipynb>data table notebook</a>'\n",
              "            + ' to learn more about interactive tables.';\n",
              "          element.innerHTML = '';\n",
              "          dataTable['output_type'] = 'display_data';\n",
              "          await google.colab.output.renderOutput(dataTable, element);\n",
              "          const docLink = document.createElement('div');\n",
              "          docLink.innerHTML = docLinkHtml;\n",
              "          element.appendChild(docLink);\n",
              "        }\n",
              "      </script>\n",
              "    </div>\n",
              "  </div>\n",
              "  "
            ]
          },
          "metadata": {},
          "execution_count": 21
        }
      ]
    },
    {
      "cell_type": "code",
      "source": [
        "df.to_csv('Products_filpkart.csv')"
      ],
      "metadata": {
        "id": "3ywLOp1grLZO"
      },
      "execution_count": 27,
      "outputs": []
    },
    {
      "cell_type": "code",
      "source": [],
      "metadata": {
        "id": "Zr1vWe_rtVHo"
      },
      "execution_count": null,
      "outputs": []
    },
    {
      "cell_type": "code",
      "source": [
        "df['Product_Name']"
      ],
      "metadata": {
        "colab": {
          "base_uri": "https://localhost:8080/"
        },
        "id": "rjsVHh7tZ3HK",
        "outputId": "d511e1e8-0635-4e9e-ed62-e59cb397da0c"
      },
      "execution_count": 25,
      "outputs": [
        {
          "output_type": "execute_result",
          "data": {
            "text/plain": [
              "0       realme 10 Pro 5G (Nebula Blue, 128 GB)\n",
              "1       realme 10 Pro 5G (Nebula Blue, 128 GB)\n",
              "2                realme 8 (Punk Black, 128 GB)\n",
              "3      realme 10 Pro+ 5G (Nebula Blue, 256 GB)\n",
              "4       realme 10 Pro 5G (Dark Matter, 128 GB)\n",
              "                        ...                   \n",
              "233             realme 3 (Radiant Blue, 64 GB)\n",
              "234       realme X2 Pro (Neptune Blue, 128 GB)\n",
              "235       realme X2 Pro (Neptune Blue, 256 GB)\n",
              "236        realme GT 5G (Dashing Blue, 128 GB)\n",
              "237           realme X3 (Glacier Blue, 128 GB)\n",
              "Name: Product_Name, Length: 238, dtype: object"
            ]
          },
          "metadata": {},
          "execution_count": 25
        }
      ]
    },
    {
      "cell_type": "code",
      "source": [
        "df.shape"
      ],
      "metadata": {
        "colab": {
          "base_uri": "https://localhost:8080/"
        },
        "id": "AgU9DMJlSPDR",
        "outputId": "9a75766e-85b6-40b7-8e2c-880a68f19a30"
      },
      "execution_count": 23,
      "outputs": [
        {
          "output_type": "execute_result",
          "data": {
            "text/plain": [
              "(238, 4)"
            ]
          },
          "metadata": {},
          "execution_count": 23
        }
      ]
    },
    {
      "cell_type": "code",
      "source": [
        "for i in range(2,12):\n",
        "  url = 'https://www.flipkart.com/mobiles/pr?sid=tyy%2C4io&p%5B%5D=facets.brand%255B%255D%3Drealme&p%5B%5D=facets.availability%255B%255D%3DExclude%2BOut%2Bof%2BStock&param=7564&ctx=eyJjYXJkQ29udGV4dCI6eyJhdHRyaWJ1dGVzIjp7InRpdGxlIjp7Im11bHRpVmFsdWVkQXR0cmlidXRlIjp7ImtleSI6InRpdGxlIiwiaW5mZXJlbmNlVHlwZSI6IlRJVExFIiwidmFsdWVzIjpbIlNob3AgTm93Il0sInZhbHVlVHlwZSI6Ik1VTFRJX1ZBTFVFRCJ9fX19fQ%3D%3D&otracker=clp_metro_expandable_1_5.metroExpandable.METRO_EXPANDABLE_Shop%2BNow_mobile-phones-store_Q1PDG4YW86MF_wp2&fm=neo%2Fmerchandising&iid=M_aebefa70-3786-450f-9f91-66d5902cd2d1_5.Q1PDG4YW86MF&ppt=None&ppn=None&ssid=aqk8r37wq80000001684334704234&page='+str(i)\n",
        "  print(url)"
      ],
      "metadata": {
        "colab": {
          "base_uri": "https://localhost:8080/"
        },
        "id": "VStti2-jTf5H",
        "outputId": "d7b0b630-1ad1-4a62-d786-bbd18db48467"
      },
      "execution_count": 24,
      "outputs": [
        {
          "output_type": "stream",
          "name": "stdout",
          "text": [
            "https://www.flipkart.com/mobiles/pr?sid=tyy%2C4io&p%5B%5D=facets.brand%255B%255D%3Drealme&p%5B%5D=facets.availability%255B%255D%3DExclude%2BOut%2Bof%2BStock&param=7564&ctx=eyJjYXJkQ29udGV4dCI6eyJhdHRyaWJ1dGVzIjp7InRpdGxlIjp7Im11bHRpVmFsdWVkQXR0cmlidXRlIjp7ImtleSI6InRpdGxlIiwiaW5mZXJlbmNlVHlwZSI6IlRJVExFIiwidmFsdWVzIjpbIlNob3AgTm93Il0sInZhbHVlVHlwZSI6Ik1VTFRJX1ZBTFVFRCJ9fX19fQ%3D%3D&otracker=clp_metro_expandable_1_5.metroExpandable.METRO_EXPANDABLE_Shop%2BNow_mobile-phones-store_Q1PDG4YW86MF_wp2&fm=neo%2Fmerchandising&iid=M_aebefa70-3786-450f-9f91-66d5902cd2d1_5.Q1PDG4YW86MF&ppt=None&ppn=None&ssid=aqk8r37wq80000001684334704234&page=2\n",
            "https://www.flipkart.com/mobiles/pr?sid=tyy%2C4io&p%5B%5D=facets.brand%255B%255D%3Drealme&p%5B%5D=facets.availability%255B%255D%3DExclude%2BOut%2Bof%2BStock&param=7564&ctx=eyJjYXJkQ29udGV4dCI6eyJhdHRyaWJ1dGVzIjp7InRpdGxlIjp7Im11bHRpVmFsdWVkQXR0cmlidXRlIjp7ImtleSI6InRpdGxlIiwiaW5mZXJlbmNlVHlwZSI6IlRJVExFIiwidmFsdWVzIjpbIlNob3AgTm93Il0sInZhbHVlVHlwZSI6Ik1VTFRJX1ZBTFVFRCJ9fX19fQ%3D%3D&otracker=clp_metro_expandable_1_5.metroExpandable.METRO_EXPANDABLE_Shop%2BNow_mobile-phones-store_Q1PDG4YW86MF_wp2&fm=neo%2Fmerchandising&iid=M_aebefa70-3786-450f-9f91-66d5902cd2d1_5.Q1PDG4YW86MF&ppt=None&ppn=None&ssid=aqk8r37wq80000001684334704234&page=3\n",
            "https://www.flipkart.com/mobiles/pr?sid=tyy%2C4io&p%5B%5D=facets.brand%255B%255D%3Drealme&p%5B%5D=facets.availability%255B%255D%3DExclude%2BOut%2Bof%2BStock&param=7564&ctx=eyJjYXJkQ29udGV4dCI6eyJhdHRyaWJ1dGVzIjp7InRpdGxlIjp7Im11bHRpVmFsdWVkQXR0cmlidXRlIjp7ImtleSI6InRpdGxlIiwiaW5mZXJlbmNlVHlwZSI6IlRJVExFIiwidmFsdWVzIjpbIlNob3AgTm93Il0sInZhbHVlVHlwZSI6Ik1VTFRJX1ZBTFVFRCJ9fX19fQ%3D%3D&otracker=clp_metro_expandable_1_5.metroExpandable.METRO_EXPANDABLE_Shop%2BNow_mobile-phones-store_Q1PDG4YW86MF_wp2&fm=neo%2Fmerchandising&iid=M_aebefa70-3786-450f-9f91-66d5902cd2d1_5.Q1PDG4YW86MF&ppt=None&ppn=None&ssid=aqk8r37wq80000001684334704234&page=4\n",
            "https://www.flipkart.com/mobiles/pr?sid=tyy%2C4io&p%5B%5D=facets.brand%255B%255D%3Drealme&p%5B%5D=facets.availability%255B%255D%3DExclude%2BOut%2Bof%2BStock&param=7564&ctx=eyJjYXJkQ29udGV4dCI6eyJhdHRyaWJ1dGVzIjp7InRpdGxlIjp7Im11bHRpVmFsdWVkQXR0cmlidXRlIjp7ImtleSI6InRpdGxlIiwiaW5mZXJlbmNlVHlwZSI6IlRJVExFIiwidmFsdWVzIjpbIlNob3AgTm93Il0sInZhbHVlVHlwZSI6Ik1VTFRJX1ZBTFVFRCJ9fX19fQ%3D%3D&otracker=clp_metro_expandable_1_5.metroExpandable.METRO_EXPANDABLE_Shop%2BNow_mobile-phones-store_Q1PDG4YW86MF_wp2&fm=neo%2Fmerchandising&iid=M_aebefa70-3786-450f-9f91-66d5902cd2d1_5.Q1PDG4YW86MF&ppt=None&ppn=None&ssid=aqk8r37wq80000001684334704234&page=5\n",
            "https://www.flipkart.com/mobiles/pr?sid=tyy%2C4io&p%5B%5D=facets.brand%255B%255D%3Drealme&p%5B%5D=facets.availability%255B%255D%3DExclude%2BOut%2Bof%2BStock&param=7564&ctx=eyJjYXJkQ29udGV4dCI6eyJhdHRyaWJ1dGVzIjp7InRpdGxlIjp7Im11bHRpVmFsdWVkQXR0cmlidXRlIjp7ImtleSI6InRpdGxlIiwiaW5mZXJlbmNlVHlwZSI6IlRJVExFIiwidmFsdWVzIjpbIlNob3AgTm93Il0sInZhbHVlVHlwZSI6Ik1VTFRJX1ZBTFVFRCJ9fX19fQ%3D%3D&otracker=clp_metro_expandable_1_5.metroExpandable.METRO_EXPANDABLE_Shop%2BNow_mobile-phones-store_Q1PDG4YW86MF_wp2&fm=neo%2Fmerchandising&iid=M_aebefa70-3786-450f-9f91-66d5902cd2d1_5.Q1PDG4YW86MF&ppt=None&ppn=None&ssid=aqk8r37wq80000001684334704234&page=6\n",
            "https://www.flipkart.com/mobiles/pr?sid=tyy%2C4io&p%5B%5D=facets.brand%255B%255D%3Drealme&p%5B%5D=facets.availability%255B%255D%3DExclude%2BOut%2Bof%2BStock&param=7564&ctx=eyJjYXJkQ29udGV4dCI6eyJhdHRyaWJ1dGVzIjp7InRpdGxlIjp7Im11bHRpVmFsdWVkQXR0cmlidXRlIjp7ImtleSI6InRpdGxlIiwiaW5mZXJlbmNlVHlwZSI6IlRJVExFIiwidmFsdWVzIjpbIlNob3AgTm93Il0sInZhbHVlVHlwZSI6Ik1VTFRJX1ZBTFVFRCJ9fX19fQ%3D%3D&otracker=clp_metro_expandable_1_5.metroExpandable.METRO_EXPANDABLE_Shop%2BNow_mobile-phones-store_Q1PDG4YW86MF_wp2&fm=neo%2Fmerchandising&iid=M_aebefa70-3786-450f-9f91-66d5902cd2d1_5.Q1PDG4YW86MF&ppt=None&ppn=None&ssid=aqk8r37wq80000001684334704234&page=7\n",
            "https://www.flipkart.com/mobiles/pr?sid=tyy%2C4io&p%5B%5D=facets.brand%255B%255D%3Drealme&p%5B%5D=facets.availability%255B%255D%3DExclude%2BOut%2Bof%2BStock&param=7564&ctx=eyJjYXJkQ29udGV4dCI6eyJhdHRyaWJ1dGVzIjp7InRpdGxlIjp7Im11bHRpVmFsdWVkQXR0cmlidXRlIjp7ImtleSI6InRpdGxlIiwiaW5mZXJlbmNlVHlwZSI6IlRJVExFIiwidmFsdWVzIjpbIlNob3AgTm93Il0sInZhbHVlVHlwZSI6Ik1VTFRJX1ZBTFVFRCJ9fX19fQ%3D%3D&otracker=clp_metro_expandable_1_5.metroExpandable.METRO_EXPANDABLE_Shop%2BNow_mobile-phones-store_Q1PDG4YW86MF_wp2&fm=neo%2Fmerchandising&iid=M_aebefa70-3786-450f-9f91-66d5902cd2d1_5.Q1PDG4YW86MF&ppt=None&ppn=None&ssid=aqk8r37wq80000001684334704234&page=8\n",
            "https://www.flipkart.com/mobiles/pr?sid=tyy%2C4io&p%5B%5D=facets.brand%255B%255D%3Drealme&p%5B%5D=facets.availability%255B%255D%3DExclude%2BOut%2Bof%2BStock&param=7564&ctx=eyJjYXJkQ29udGV4dCI6eyJhdHRyaWJ1dGVzIjp7InRpdGxlIjp7Im11bHRpVmFsdWVkQXR0cmlidXRlIjp7ImtleSI6InRpdGxlIiwiaW5mZXJlbmNlVHlwZSI6IlRJVExFIiwidmFsdWVzIjpbIlNob3AgTm93Il0sInZhbHVlVHlwZSI6Ik1VTFRJX1ZBTFVFRCJ9fX19fQ%3D%3D&otracker=clp_metro_expandable_1_5.metroExpandable.METRO_EXPANDABLE_Shop%2BNow_mobile-phones-store_Q1PDG4YW86MF_wp2&fm=neo%2Fmerchandising&iid=M_aebefa70-3786-450f-9f91-66d5902cd2d1_5.Q1PDG4YW86MF&ppt=None&ppn=None&ssid=aqk8r37wq80000001684334704234&page=9\n",
            "https://www.flipkart.com/mobiles/pr?sid=tyy%2C4io&p%5B%5D=facets.brand%255B%255D%3Drealme&p%5B%5D=facets.availability%255B%255D%3DExclude%2BOut%2Bof%2BStock&param=7564&ctx=eyJjYXJkQ29udGV4dCI6eyJhdHRyaWJ1dGVzIjp7InRpdGxlIjp7Im11bHRpVmFsdWVkQXR0cmlidXRlIjp7ImtleSI6InRpdGxlIiwiaW5mZXJlbmNlVHlwZSI6IlRJVExFIiwidmFsdWVzIjpbIlNob3AgTm93Il0sInZhbHVlVHlwZSI6Ik1VTFRJX1ZBTFVFRCJ9fX19fQ%3D%3D&otracker=clp_metro_expandable_1_5.metroExpandable.METRO_EXPANDABLE_Shop%2BNow_mobile-phones-store_Q1PDG4YW86MF_wp2&fm=neo%2Fmerchandising&iid=M_aebefa70-3786-450f-9f91-66d5902cd2d1_5.Q1PDG4YW86MF&ppt=None&ppn=None&ssid=aqk8r37wq80000001684334704234&page=10\n",
            "https://www.flipkart.com/mobiles/pr?sid=tyy%2C4io&p%5B%5D=facets.brand%255B%255D%3Drealme&p%5B%5D=facets.availability%255B%255D%3DExclude%2BOut%2Bof%2BStock&param=7564&ctx=eyJjYXJkQ29udGV4dCI6eyJhdHRyaWJ1dGVzIjp7InRpdGxlIjp7Im11bHRpVmFsdWVkQXR0cmlidXRlIjp7ImtleSI6InRpdGxlIiwiaW5mZXJlbmNlVHlwZSI6IlRJVExFIiwidmFsdWVzIjpbIlNob3AgTm93Il0sInZhbHVlVHlwZSI6Ik1VTFRJX1ZBTFVFRCJ9fX19fQ%3D%3D&otracker=clp_metro_expandable_1_5.metroExpandable.METRO_EXPANDABLE_Shop%2BNow_mobile-phones-store_Q1PDG4YW86MF_wp2&fm=neo%2Fmerchandising&iid=M_aebefa70-3786-450f-9f91-66d5902cd2d1_5.Q1PDG4YW86MF&ppt=None&ppn=None&ssid=aqk8r37wq80000001684334704234&page=11\n"
          ]
        }
      ]
    }
  ]
}